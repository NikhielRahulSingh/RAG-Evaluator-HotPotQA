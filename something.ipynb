{
 "cells": [
  {
   "cell_type": "markdown",
   "metadata": {},
   "source": [
    "## Load Embedded Data\n"
   ]
  },
  {
   "cell_type": "code",
   "execution_count": 1,
   "metadata": {},
   "outputs": [],
   "source": [
    "import pandas\n",
    "import pickle\n",
    "\n",
    "MODEL =\"dunzhang/stella_en_400M_v5\" #dunzhang/stella_en_1.5B_v5\n",
    "DIFFICULTY = \"hard\"\n",
    "SAMPLE = 500\n",
    "\n",
    "save_dir = f\"embeddings/{MODEL}/{DIFFICULTY}/{SAMPLE}\"\n",
    "\n",
    "hotpot_qa_df = pandas.read_pickle(f'{save_dir}/df.pkl')\n",
    "with open(f'{save_dir}/contexts.pkl', 'rb') as f:contexts = pickle.load(f)\n",
    "with open(f'{save_dir}/similarity_matrix.pkl', 'rb') as f:similarity_matrix = pickle.load(f)\n",
    "\n",
    "similarity_matrix = similarity_matrix.numpy()\n"
   ]
  },
  {
   "cell_type": "markdown",
   "metadata": {},
   "source": [
    "# Agglomerative CLustering"
   ]
  },
  {
   "cell_type": "code",
   "execution_count": 2,
   "metadata": {},
   "outputs": [
    {
     "data": {
      "application/vnd.plotly.v1+json": {
       "config": {
        "plotlyServerURL": "https://plot.ly"
       },
       "data": [
        {
         "type": "bar",
         "x": [
          275,
          83,
          312,
          378,
          561,
          231,
          172,
          125,
          46,
          271,
          106,
          372,
          153,
          270,
          44,
          292,
          162,
          266,
          62,
          474,
          184,
          20,
          212,
          61,
          332,
          310,
          116,
          77,
          566,
          519,
          10,
          282,
          558,
          6,
          158,
          155,
          90,
          145,
          41,
          50,
          302,
          236,
          400,
          243,
          111,
          287,
          335,
          257,
          2,
          533,
          465,
          462,
          318,
          178,
          274,
          463,
          56,
          207,
          27,
          268,
          362,
          7,
          326,
          540,
          9,
          148,
          47,
          526,
          26,
          170,
          376,
          545,
          70,
          0,
          233,
          319,
          133,
          33,
          484,
          51,
          260,
          353,
          147,
          141,
          392,
          127,
          22,
          249,
          69,
          124,
          193,
          154,
          224,
          398,
          434,
          146,
          445,
          157,
          63,
          192,
          501,
          25,
          53,
          316,
          15,
          357,
          449,
          197,
          202,
          215,
          356,
          183,
          238,
          323,
          87,
          296,
          336,
          208,
          405,
          42,
          99,
          14,
          151,
          64,
          85,
          204,
          195,
          169,
          390,
          98,
          293,
          103,
          446,
          49,
          371,
          227,
          277,
          72,
          150,
          78,
          32,
          265,
          132,
          30,
          92,
          203,
          284,
          512,
          258,
          230,
          136,
          435,
          214,
          190,
          109,
          553,
          97,
          86,
          126,
          75,
          283,
          324,
          382,
          58,
          23,
          496,
          365,
          354,
          290,
          31,
          115,
          91,
          54,
          342,
          387,
          67,
          187,
          487,
          403,
          370,
          281,
          497,
          3,
          330,
          482,
          528,
          119,
          337,
          55,
          110,
          108,
          532,
          245,
          550,
          426,
          144,
          504,
          389,
          563,
          385,
          12,
          165,
          552,
          84,
          164,
          40,
          311,
          381,
          549,
          149,
          186,
          524,
          447,
          29,
          201,
          288,
          522,
          536,
          198,
          427,
          358,
          345,
          490,
          8,
          467,
          314,
          232,
          13,
          406,
          436,
          163,
          300,
          279,
          121,
          298,
          48,
          95,
          45,
          36,
          37,
          430,
          416,
          247,
          451,
          320,
          160,
          223,
          140,
          114,
          59,
          269,
          226,
          340,
          101,
          520,
          367,
          16,
          543,
          360,
          34,
          565,
          229,
          218,
          122,
          380,
          135,
          259,
          82,
          117,
          469,
          138,
          442,
          308,
          262,
          546,
          76,
          80,
          439,
          24,
          18,
          222,
          225,
          273,
          209,
          307,
          250,
          538,
          564,
          105,
          355,
          171,
          65,
          35,
          191,
          494,
          338,
          407,
          327,
          344,
          480,
          43,
          88,
          4,
          239,
          350,
          143,
          477,
          237,
          303,
          219,
          180,
          341,
          21,
          123,
          401,
          559,
          301,
          309,
          431,
          71,
          234,
          210,
          181,
          325,
          395,
          185,
          432,
          412,
          428,
          419,
          17,
          11,
          423,
          472,
          182,
          396,
          252,
          205,
          130,
          156,
          38,
          539,
          104,
          424,
          94,
          96,
          73,
          211,
          468,
          200,
          478,
          128,
          516,
          475,
          173,
          508,
          413,
          194,
          188,
          429,
          313,
          81,
          394,
          19,
          525,
          107,
          510,
          217,
          1,
          458,
          521,
          294,
          383,
          375,
          280,
          418,
          306,
          248,
          433,
          415,
          548,
          28,
          295,
          286,
          113,
          177,
          410,
          57,
          251,
          557,
          437,
          213,
          489,
          420,
          373,
          499,
          529,
          228,
          5,
          399,
          246,
          495,
          89,
          299,
          159,
          491,
          443,
          456,
          241,
          142,
          460,
          518,
          404,
          74,
          315,
          206,
          544,
          139,
          493,
          352,
          479,
          471,
          560,
          457,
          470,
          364,
          450,
          39,
          349,
          473,
          285,
          93,
          348,
          485,
          254,
          102,
          240,
          531,
          304,
          196,
          517,
          189,
          454,
          369,
          131,
          488,
          537,
          486,
          174,
          52,
          118,
          100,
          216,
          347,
          276,
          547,
          221,
          333,
          331,
          267,
          60,
          422,
          361,
          453,
          134,
          411,
          511,
          112,
          492,
          291,
          322,
          397,
          166,
          464,
          509,
          386,
          440,
          555,
          444,
          414,
          500,
          79,
          505,
          152,
          278,
          68,
          455,
          425,
          339,
          498,
          402,
          556,
          366,
          441,
          351,
          120,
          438,
          264,
          263,
          377,
          272,
          448,
          551,
          506,
          305,
          261,
          334,
          502,
          530,
          161,
          459,
          513,
          562,
          66,
          176,
          542,
          168,
          329,
          409,
          167,
          417,
          328,
          554,
          235,
          461,
          175,
          255,
          393,
          408,
          137,
          534,
          466,
          317,
          384,
          476,
          368,
          514,
          343,
          253,
          374,
          129,
          199,
          452,
          541,
          421,
          289,
          297,
          388,
          256,
          359,
          507,
          515,
          220,
          346,
          535,
          242,
          391,
          179,
          321,
          503,
          379,
          523,
          527,
          363,
          483,
          244,
          481
         ],
         "y": [
          29,
          16,
          16,
          6,
          4,
          7,
          9,
          13,
          45,
          13,
          11,
          18,
          10,
          5,
          11,
          25,
          10,
          9,
          8,
          4,
          7,
          5,
          18,
          23,
          6,
          5,
          9,
          4,
          8,
          3,
          16,
          3,
          5,
          9,
          11,
          12,
          14,
          7,
          20,
          21,
          4,
          8,
          16,
          37,
          19,
          21,
          11,
          8,
          10,
          5,
          4,
          7,
          5,
          5,
          5,
          9,
          11,
          5,
          8,
          3,
          6,
          11,
          15,
          7,
          11,
          12,
          22,
          4,
          9,
          13,
          11,
          8,
          9,
          31,
          18,
          17,
          25,
          14,
          2,
          14,
          8,
          6,
          4,
          4,
          9,
          19,
          23,
          12,
          13,
          6,
          11,
          18,
          14,
          10,
          6,
          14,
          9,
          13,
          11,
          7,
          8,
          28,
          14,
          4,
          20,
          7,
          6,
          7,
          6,
          6,
          15,
          6,
          9,
          9,
          19,
          7,
          2,
          6,
          3,
          30,
          10,
          8,
          22,
          14,
          7,
          15,
          10,
          14,
          8,
          13,
          38,
          13,
          3,
          12,
          13,
          8,
          12,
          10,
          17,
          6,
          16,
          8,
          3,
          16,
          6,
          6,
          14,
          14,
          14,
          5,
          3,
          6,
          7,
          4,
          19,
          9,
          20,
          7,
          5,
          14,
          6,
          15,
          5,
          16,
          18,
          3,
          13,
          17,
          9,
          23,
          32,
          13,
          5,
          5,
          12,
          15,
          4,
          8,
          9,
          19,
          5,
          5,
          8,
          8,
          2,
          4,
          5,
          3,
          37,
          10,
          9,
          3,
          11,
          3,
          5,
          11,
          5,
          2,
          6,
          7,
          11,
          16,
          4,
          5,
          3,
          13,
          10,
          5,
          3,
          11,
          10,
          10,
          10,
          5,
          8,
          8,
          7,
          9,
          10,
          4,
          4,
          20,
          4,
          23,
          2,
          9,
          8,
          18,
          7,
          3,
          8,
          8,
          27,
          10,
          8,
          17,
          20,
          8,
          5,
          12,
          7,
          3,
          5,
          4,
          29,
          13,
          25,
          6,
          19,
          9,
          9,
          18,
          3,
          16,
          3,
          2,
          6,
          2,
          9,
          11,
          2,
          2,
          4,
          9,
          7,
          14,
          6,
          9,
          4,
          13,
          16,
          9,
          15,
          14,
          2,
          17,
          41,
          2,
          9,
          9,
          12,
          3,
          6,
          17,
          2,
          10,
          13,
          11,
          22,
          2,
          15,
          20,
          11,
          9,
          5,
          4,
          2,
          8,
          14,
          2,
          24,
          5,
          9,
          10,
          6,
          6,
          4,
          13,
          4,
          12,
          12,
          13,
          12,
          8,
          21,
          3,
          2,
          5,
          3,
          4,
          4,
          7,
          9,
          6,
          3,
          9,
          11,
          5,
          2,
          13,
          6,
          17,
          5,
          5,
          15,
          8,
          17,
          13,
          7,
          7,
          3,
          10,
          10,
          4,
          14,
          19,
          14,
          12,
          5,
          4,
          10,
          7,
          11,
          9,
          5,
          4,
          17,
          7,
          9,
          10,
          4,
          3,
          1,
          19,
          2,
          7,
          3,
          10,
          13,
          4,
          4,
          7,
          5,
          15,
          7,
          2,
          2,
          11,
          3,
          16,
          4,
          12,
          9,
          14,
          3,
          5,
          3,
          10,
          4,
          4,
          1,
          12,
          20,
          2,
          2,
          3,
          2,
          8,
          16,
          3,
          9,
          3,
          9,
          4,
          9,
          2,
          3,
          9,
          10,
          12,
          2,
          5,
          2,
          8,
          10,
          12,
          4,
          5,
          9,
          7,
          2,
          10,
          7,
          2,
          1,
          10,
          9,
          7,
          6,
          13,
          9,
          13,
          8,
          2,
          5,
          11,
          7,
          6,
          13,
          6,
          4,
          12,
          2,
          3,
          5,
          5,
          3,
          2,
          17,
          3,
          5,
          6,
          15,
          3,
          5,
          8,
          5,
          2,
          4,
          3,
          4,
          6,
          6,
          1,
          5,
          4,
          6,
          20,
          2,
          3,
          9,
          7,
          5,
          4,
          9,
          4,
          4,
          5,
          4,
          5,
          5,
          10,
          3,
          5,
          4,
          5,
          6,
          5,
          4,
          3,
          5,
          5,
          5,
          9,
          6,
          10,
          11,
          5,
          6,
          7,
          7,
          12,
          8,
          1,
          2,
          5,
          4,
          4,
          2,
          6,
          3,
          2,
          2,
          9,
          6,
          9,
          9,
          6,
          3,
          3,
          2,
          2,
          1,
          17,
          3,
          10,
          2,
          7,
          10,
          7,
          2,
          3,
          8,
          7,
          3,
          5,
          4,
          5,
          14,
          3,
          2,
          9,
          6,
          6,
          9,
          5,
          19,
          4,
          5,
          10,
          3,
          2,
          4,
          2,
          1,
          9,
          6,
          7,
          2,
          9,
          6,
          3,
          4,
          7,
          5,
          6,
          3
         ]
        }
       ],
       "layout": {
        "height": 600,
        "margin": {
         "b": 100,
         "l": 50,
         "pad": 4,
         "r": 50,
         "t": 100
        },
        "template": {
         "data": {
          "bar": [
           {
            "error_x": {
             "color": "#2a3f5f"
            },
            "error_y": {
             "color": "#2a3f5f"
            },
            "marker": {
             "line": {
              "color": "#E5ECF6",
              "width": 0.5
             },
             "pattern": {
              "fillmode": "overlay",
              "size": 10,
              "solidity": 0.2
             }
            },
            "type": "bar"
           }
          ],
          "barpolar": [
           {
            "marker": {
             "line": {
              "color": "#E5ECF6",
              "width": 0.5
             },
             "pattern": {
              "fillmode": "overlay",
              "size": 10,
              "solidity": 0.2
             }
            },
            "type": "barpolar"
           }
          ],
          "carpet": [
           {
            "aaxis": {
             "endlinecolor": "#2a3f5f",
             "gridcolor": "white",
             "linecolor": "white",
             "minorgridcolor": "white",
             "startlinecolor": "#2a3f5f"
            },
            "baxis": {
             "endlinecolor": "#2a3f5f",
             "gridcolor": "white",
             "linecolor": "white",
             "minorgridcolor": "white",
             "startlinecolor": "#2a3f5f"
            },
            "type": "carpet"
           }
          ],
          "choropleth": [
           {
            "colorbar": {
             "outlinewidth": 0,
             "ticks": ""
            },
            "type": "choropleth"
           }
          ],
          "contour": [
           {
            "colorbar": {
             "outlinewidth": 0,
             "ticks": ""
            },
            "colorscale": [
             [
              0,
              "#0d0887"
             ],
             [
              0.1111111111111111,
              "#46039f"
             ],
             [
              0.2222222222222222,
              "#7201a8"
             ],
             [
              0.3333333333333333,
              "#9c179e"
             ],
             [
              0.4444444444444444,
              "#bd3786"
             ],
             [
              0.5555555555555556,
              "#d8576b"
             ],
             [
              0.6666666666666666,
              "#ed7953"
             ],
             [
              0.7777777777777778,
              "#fb9f3a"
             ],
             [
              0.8888888888888888,
              "#fdca26"
             ],
             [
              1,
              "#f0f921"
             ]
            ],
            "type": "contour"
           }
          ],
          "contourcarpet": [
           {
            "colorbar": {
             "outlinewidth": 0,
             "ticks": ""
            },
            "type": "contourcarpet"
           }
          ],
          "heatmap": [
           {
            "colorbar": {
             "outlinewidth": 0,
             "ticks": ""
            },
            "colorscale": [
             [
              0,
              "#0d0887"
             ],
             [
              0.1111111111111111,
              "#46039f"
             ],
             [
              0.2222222222222222,
              "#7201a8"
             ],
             [
              0.3333333333333333,
              "#9c179e"
             ],
             [
              0.4444444444444444,
              "#bd3786"
             ],
             [
              0.5555555555555556,
              "#d8576b"
             ],
             [
              0.6666666666666666,
              "#ed7953"
             ],
             [
              0.7777777777777778,
              "#fb9f3a"
             ],
             [
              0.8888888888888888,
              "#fdca26"
             ],
             [
              1,
              "#f0f921"
             ]
            ],
            "type": "heatmap"
           }
          ],
          "heatmapgl": [
           {
            "colorbar": {
             "outlinewidth": 0,
             "ticks": ""
            },
            "colorscale": [
             [
              0,
              "#0d0887"
             ],
             [
              0.1111111111111111,
              "#46039f"
             ],
             [
              0.2222222222222222,
              "#7201a8"
             ],
             [
              0.3333333333333333,
              "#9c179e"
             ],
             [
              0.4444444444444444,
              "#bd3786"
             ],
             [
              0.5555555555555556,
              "#d8576b"
             ],
             [
              0.6666666666666666,
              "#ed7953"
             ],
             [
              0.7777777777777778,
              "#fb9f3a"
             ],
             [
              0.8888888888888888,
              "#fdca26"
             ],
             [
              1,
              "#f0f921"
             ]
            ],
            "type": "heatmapgl"
           }
          ],
          "histogram": [
           {
            "marker": {
             "pattern": {
              "fillmode": "overlay",
              "size": 10,
              "solidity": 0.2
             }
            },
            "type": "histogram"
           }
          ],
          "histogram2d": [
           {
            "colorbar": {
             "outlinewidth": 0,
             "ticks": ""
            },
            "colorscale": [
             [
              0,
              "#0d0887"
             ],
             [
              0.1111111111111111,
              "#46039f"
             ],
             [
              0.2222222222222222,
              "#7201a8"
             ],
             [
              0.3333333333333333,
              "#9c179e"
             ],
             [
              0.4444444444444444,
              "#bd3786"
             ],
             [
              0.5555555555555556,
              "#d8576b"
             ],
             [
              0.6666666666666666,
              "#ed7953"
             ],
             [
              0.7777777777777778,
              "#fb9f3a"
             ],
             [
              0.8888888888888888,
              "#fdca26"
             ],
             [
              1,
              "#f0f921"
             ]
            ],
            "type": "histogram2d"
           }
          ],
          "histogram2dcontour": [
           {
            "colorbar": {
             "outlinewidth": 0,
             "ticks": ""
            },
            "colorscale": [
             [
              0,
              "#0d0887"
             ],
             [
              0.1111111111111111,
              "#46039f"
             ],
             [
              0.2222222222222222,
              "#7201a8"
             ],
             [
              0.3333333333333333,
              "#9c179e"
             ],
             [
              0.4444444444444444,
              "#bd3786"
             ],
             [
              0.5555555555555556,
              "#d8576b"
             ],
             [
              0.6666666666666666,
              "#ed7953"
             ],
             [
              0.7777777777777778,
              "#fb9f3a"
             ],
             [
              0.8888888888888888,
              "#fdca26"
             ],
             [
              1,
              "#f0f921"
             ]
            ],
            "type": "histogram2dcontour"
           }
          ],
          "mesh3d": [
           {
            "colorbar": {
             "outlinewidth": 0,
             "ticks": ""
            },
            "type": "mesh3d"
           }
          ],
          "parcoords": [
           {
            "line": {
             "colorbar": {
              "outlinewidth": 0,
              "ticks": ""
             }
            },
            "type": "parcoords"
           }
          ],
          "pie": [
           {
            "automargin": true,
            "type": "pie"
           }
          ],
          "scatter": [
           {
            "fillpattern": {
             "fillmode": "overlay",
             "size": 10,
             "solidity": 0.2
            },
            "type": "scatter"
           }
          ],
          "scatter3d": [
           {
            "line": {
             "colorbar": {
              "outlinewidth": 0,
              "ticks": ""
             }
            },
            "marker": {
             "colorbar": {
              "outlinewidth": 0,
              "ticks": ""
             }
            },
            "type": "scatter3d"
           }
          ],
          "scattercarpet": [
           {
            "marker": {
             "colorbar": {
              "outlinewidth": 0,
              "ticks": ""
             }
            },
            "type": "scattercarpet"
           }
          ],
          "scattergeo": [
           {
            "marker": {
             "colorbar": {
              "outlinewidth": 0,
              "ticks": ""
             }
            },
            "type": "scattergeo"
           }
          ],
          "scattergl": [
           {
            "marker": {
             "colorbar": {
              "outlinewidth": 0,
              "ticks": ""
             }
            },
            "type": "scattergl"
           }
          ],
          "scattermapbox": [
           {
            "marker": {
             "colorbar": {
              "outlinewidth": 0,
              "ticks": ""
             }
            },
            "type": "scattermapbox"
           }
          ],
          "scatterpolar": [
           {
            "marker": {
             "colorbar": {
              "outlinewidth": 0,
              "ticks": ""
             }
            },
            "type": "scatterpolar"
           }
          ],
          "scatterpolargl": [
           {
            "marker": {
             "colorbar": {
              "outlinewidth": 0,
              "ticks": ""
             }
            },
            "type": "scatterpolargl"
           }
          ],
          "scatterternary": [
           {
            "marker": {
             "colorbar": {
              "outlinewidth": 0,
              "ticks": ""
             }
            },
            "type": "scatterternary"
           }
          ],
          "surface": [
           {
            "colorbar": {
             "outlinewidth": 0,
             "ticks": ""
            },
            "colorscale": [
             [
              0,
              "#0d0887"
             ],
             [
              0.1111111111111111,
              "#46039f"
             ],
             [
              0.2222222222222222,
              "#7201a8"
             ],
             [
              0.3333333333333333,
              "#9c179e"
             ],
             [
              0.4444444444444444,
              "#bd3786"
             ],
             [
              0.5555555555555556,
              "#d8576b"
             ],
             [
              0.6666666666666666,
              "#ed7953"
             ],
             [
              0.7777777777777778,
              "#fb9f3a"
             ],
             [
              0.8888888888888888,
              "#fdca26"
             ],
             [
              1,
              "#f0f921"
             ]
            ],
            "type": "surface"
           }
          ],
          "table": [
           {
            "cells": {
             "fill": {
              "color": "#EBF0F8"
             },
             "line": {
              "color": "white"
             }
            },
            "header": {
             "fill": {
              "color": "#C8D4E3"
             },
             "line": {
              "color": "white"
             }
            },
            "type": "table"
           }
          ]
         },
         "layout": {
          "annotationdefaults": {
           "arrowcolor": "#2a3f5f",
           "arrowhead": 0,
           "arrowwidth": 1
          },
          "autotypenumbers": "strict",
          "coloraxis": {
           "colorbar": {
            "outlinewidth": 0,
            "ticks": ""
           }
          },
          "colorscale": {
           "diverging": [
            [
             0,
             "#8e0152"
            ],
            [
             0.1,
             "#c51b7d"
            ],
            [
             0.2,
             "#de77ae"
            ],
            [
             0.3,
             "#f1b6da"
            ],
            [
             0.4,
             "#fde0ef"
            ],
            [
             0.5,
             "#f7f7f7"
            ],
            [
             0.6,
             "#e6f5d0"
            ],
            [
             0.7,
             "#b8e186"
            ],
            [
             0.8,
             "#7fbc41"
            ],
            [
             0.9,
             "#4d9221"
            ],
            [
             1,
             "#276419"
            ]
           ],
           "sequential": [
            [
             0,
             "#0d0887"
            ],
            [
             0.1111111111111111,
             "#46039f"
            ],
            [
             0.2222222222222222,
             "#7201a8"
            ],
            [
             0.3333333333333333,
             "#9c179e"
            ],
            [
             0.4444444444444444,
             "#bd3786"
            ],
            [
             0.5555555555555556,
             "#d8576b"
            ],
            [
             0.6666666666666666,
             "#ed7953"
            ],
            [
             0.7777777777777778,
             "#fb9f3a"
            ],
            [
             0.8888888888888888,
             "#fdca26"
            ],
            [
             1,
             "#f0f921"
            ]
           ],
           "sequentialminus": [
            [
             0,
             "#0d0887"
            ],
            [
             0.1111111111111111,
             "#46039f"
            ],
            [
             0.2222222222222222,
             "#7201a8"
            ],
            [
             0.3333333333333333,
             "#9c179e"
            ],
            [
             0.4444444444444444,
             "#bd3786"
            ],
            [
             0.5555555555555556,
             "#d8576b"
            ],
            [
             0.6666666666666666,
             "#ed7953"
            ],
            [
             0.7777777777777778,
             "#fb9f3a"
            ],
            [
             0.8888888888888888,
             "#fdca26"
            ],
            [
             1,
             "#f0f921"
            ]
           ]
          },
          "colorway": [
           "#636efa",
           "#EF553B",
           "#00cc96",
           "#ab63fa",
           "#FFA15A",
           "#19d3f3",
           "#FF6692",
           "#B6E880",
           "#FF97FF",
           "#FECB52"
          ],
          "font": {
           "color": "#2a3f5f"
          },
          "geo": {
           "bgcolor": "white",
           "lakecolor": "white",
           "landcolor": "#E5ECF6",
           "showlakes": true,
           "showland": true,
           "subunitcolor": "white"
          },
          "hoverlabel": {
           "align": "left"
          },
          "hovermode": "closest",
          "mapbox": {
           "style": "light"
          },
          "paper_bgcolor": "white",
          "plot_bgcolor": "#E5ECF6",
          "polar": {
           "angularaxis": {
            "gridcolor": "white",
            "linecolor": "white",
            "ticks": ""
           },
           "bgcolor": "#E5ECF6",
           "radialaxis": {
            "gridcolor": "white",
            "linecolor": "white",
            "ticks": ""
           }
          },
          "scene": {
           "xaxis": {
            "backgroundcolor": "#E5ECF6",
            "gridcolor": "white",
            "gridwidth": 2,
            "linecolor": "white",
            "showbackground": true,
            "ticks": "",
            "zerolinecolor": "white"
           },
           "yaxis": {
            "backgroundcolor": "#E5ECF6",
            "gridcolor": "white",
            "gridwidth": 2,
            "linecolor": "white",
            "showbackground": true,
            "ticks": "",
            "zerolinecolor": "white"
           },
           "zaxis": {
            "backgroundcolor": "#E5ECF6",
            "gridcolor": "white",
            "gridwidth": 2,
            "linecolor": "white",
            "showbackground": true,
            "ticks": "",
            "zerolinecolor": "white"
           }
          },
          "shapedefaults": {
           "line": {
            "color": "#2a3f5f"
           }
          },
          "ternary": {
           "aaxis": {
            "gridcolor": "white",
            "linecolor": "white",
            "ticks": ""
           },
           "baxis": {
            "gridcolor": "white",
            "linecolor": "white",
            "ticks": ""
           },
           "bgcolor": "#E5ECF6",
           "caxis": {
            "gridcolor": "white",
            "linecolor": "white",
            "ticks": ""
           }
          },
          "title": {
           "x": 0.05
          },
          "xaxis": {
           "automargin": true,
           "gridcolor": "white",
           "linecolor": "white",
           "ticks": "",
           "title": {
            "standoff": 15
           },
           "zerolinecolor": "white",
           "zerolinewidth": 2
          },
          "yaxis": {
           "automargin": true,
           "gridcolor": "white",
           "linecolor": "white",
           "ticks": "",
           "title": {
            "standoff": 15
           },
           "zerolinecolor": "white",
           "zerolinewidth": 2
          }
         }
        },
        "title": {
         "text": "Agglomerative Clustering"
        },
        "width": 1200,
        "xaxis": {
         "automargin": true,
         "range": [
          0,
          100
         ],
         "rangeslider": {
          "visible": true
         },
         "tickangle": -45,
         "title": {
          "text": "Cluster No."
         }
        },
        "yaxis": {
         "automargin": true,
         "title": {
          "text": "No. of Items in Cluster"
         }
        }
       }
      }
     },
     "metadata": {},
     "output_type": "display_data"
    }
   ],
   "source": [
    "from clustering.algorithms import Agglomerative\n",
    "from clustering.visualization.counts import plot_cluster_counts\n",
    "\n",
    "clusters  = Agglomerative(similarity_matrix,contexts,0.68)\n",
    "plot_cluster_counts(clusters,\n",
    "                    \"Agglomerative Clustering\",\n",
    "                    \"Cluster No.\",\n",
    "                    \"No. of Items in Cluster\")"
   ]
  },
  {
   "cell_type": "code",
   "execution_count": 3,
   "metadata": {},
   "outputs": [],
   "source": [
    "from typing import Dict\n",
    "from clustering.graph.create_from_clusters import ClusterGraph\n",
    "import networkx as nx\n",
    "\n",
    "cluster_graph = ClusterGraph(clusters=clusters,similarity_matrix=similarity_matrix)\n",
    "\n",
    "individual_cluster_graphs:Dict[int, nx.Graph] = cluster_graph.get_individual_cluster_graphs()\n",
    "connected_graph:nx.Graph = cluster_graph.get_connected_graph()"
   ]
  },
  {
   "cell_type": "code",
   "execution_count": 11,
   "metadata": {},
   "outputs": [],
   "source": [
    "import plotly\n",
    "\n",
    "from clustering.graph.visualization.graph_plots import get_individual_cluster_graph_plots\n",
    "from clustering.graph.visualization.graph_plots import get_connected_graph_plot\n",
    "\n",
    "graph_plots:Dict[int,plotly.graph_objs.Figure] = get_individual_cluster_graph_plots(individual_cluster_graphs)\n",
    "cluster_plot:plotly.graph_objs.Figure = get_connected_graph_plot(connected_graph,clusters)"
   ]
  },
  {
   "cell_type": "code",
   "execution_count": 9,
   "metadata": {},
   "outputs": [],
   "source": [
    "import pickle\n",
    "\n",
    "with open(f'clusters/graph_plots.pkl', 'wb') as file:\n",
    "    pickle.dump(graph_plots, file)\n",
    "\n",
    "with open(f'clusters/cluster_plot.pkl', 'wb') as file:\n",
    "    pickle.dump(cluster_plot, file)\n",
    "\n",
    "# python cluster_plots.py --cluster_plot_dir=\"clusters/cluster_plot\" --graph_plots_dir=\"clusters/graph_plots\""
   ]
  },
  {
   "cell_type": "code",
   "execution_count": null,
   "metadata": {},
   "outputs": [],
   "source": [
    "from clustering.visualization.cluster_plots import ClusterVisualization\n",
    "\n",
    "plot = ClusterVisualization(cluster_plot,graph_plots)\n",
    "plot.run()"
   ]
  },
  {
   "cell_type": "code",
   "execution_count": null,
   "metadata": {},
   "outputs": [],
   "source": [
    "from scipy.cluster import hierarchy\n",
    "\n",
    "# Create a linkage matrix\n",
    "Z = hierarchy.linkage(dissimilarity_matrix, method='single')\n",
    "print(\"done\")\n",
    "# Create a dendrogram\n",
    "fig = plt.figure(figsize=(10, 5))"
   ]
  },
  {
   "cell_type": "code",
   "execution_count": null,
   "metadata": {},
   "outputs": [],
   "source": [
    "GROQ_API_KEY = \"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\""
   ]
  },
  {
   "cell_type": "code",
   "execution_count": null,
   "metadata": {},
   "outputs": [],
   "source": [
    "\n",
    "dn = hierarchy.dendrogram(Z)"
   ]
  }
 ],
 "metadata": {
  "kernelspec": {
   "display_name": "masters",
   "language": "python",
   "name": "python3"
  },
  "language_info": {
   "codemirror_mode": {
    "name": "ipython",
    "version": 3
   },
   "file_extension": ".py",
   "mimetype": "text/x-python",
   "name": "python",
   "nbconvert_exporter": "python",
   "pygments_lexer": "ipython3",
   "version": "3.12.5"
  }
 },
 "nbformat": 4,
 "nbformat_minor": 2
}
